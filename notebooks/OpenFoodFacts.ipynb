{
 "cells": [
  {
   "cell_type": "code",
   "execution_count": 16,
   "id": "5669be7c-c86c-4f6f-8952-00f3f6334812",
   "metadata": {
    "tags": []
   },
   "outputs": [],
   "source": [
    "import pandas as pd\n",
    "import numpy as np"
   ]
  },
  {
   "cell_type": "code",
   "execution_count": 17,
   "id": "f24dfe64-a8fc-4089-9b30-66b1764cdf30",
   "metadata": {},
   "outputs": [
    {
     "data": {
      "text/html": [
       "<div>\n",
       "<style scoped>\n",
       "    .dataframe tbody tr th:only-of-type {\n",
       "        vertical-align: middle;\n",
       "    }\n",
       "\n",
       "    .dataframe tbody tr th {\n",
       "        vertical-align: top;\n",
       "    }\n",
       "\n",
       "    .dataframe thead th {\n",
       "        text-align: right;\n",
       "    }\n",
       "</style>\n",
       "<table border=\"1\" class=\"dataframe\">\n",
       "  <thead>\n",
       "    <tr style=\"text-align: right;\">\n",
       "      <th></th>\n",
       "      <th>code</th>\n",
       "      <th>url</th>\n",
       "      <th>creator</th>\n",
       "      <th>created_t</th>\n",
       "      <th>created_datetime</th>\n",
       "      <th>last_modified_t</th>\n",
       "      <th>last_modified_datetime</th>\n",
       "      <th>last_modified_by</th>\n",
       "      <th>product_name</th>\n",
       "      <th>abbreviated_product_name</th>\n",
       "      <th>...</th>\n",
       "      <th>nutrition-score-uk_100g</th>\n",
       "      <th>glycemic-index_100g</th>\n",
       "      <th>water-hardness_100g</th>\n",
       "      <th>choline_100g</th>\n",
       "      <th>phylloquinone_100g</th>\n",
       "      <th>beta-glucan_100g</th>\n",
       "      <th>inositol_100g</th>\n",
       "      <th>carnitine_100g</th>\n",
       "      <th>sulphate_100g</th>\n",
       "      <th>nitrate_100g</th>\n",
       "    </tr>\n",
       "  </thead>\n",
       "  <tbody>\n",
       "    <tr>\n",
       "      <th>0</th>\n",
       "      <td>225</td>\n",
       "      <td>http://world-en.openfoodfacts.org/product/0000...</td>\n",
       "      <td>nutrinet-sante</td>\n",
       "      <td>1623855208</td>\n",
       "      <td>2021-06-16T14:53:28Z</td>\n",
       "      <td>1692101569</td>\n",
       "      <td>2023-08-15T12:12:49Z</td>\n",
       "      <td>digg</td>\n",
       "      <td>jeunes pousses</td>\n",
       "      <td>NaN</td>\n",
       "      <td>...</td>\n",
       "      <td>NaN</td>\n",
       "      <td>NaN</td>\n",
       "      <td>NaN</td>\n",
       "      <td>NaN</td>\n",
       "      <td>NaN</td>\n",
       "      <td>NaN</td>\n",
       "      <td>NaN</td>\n",
       "      <td>NaN</td>\n",
       "      <td>NaN</td>\n",
       "      <td>NaN</td>\n",
       "    </tr>\n",
       "    <tr>\n",
       "      <th>1</th>\n",
       "      <td>207025004</td>\n",
       "      <td>http://world-en.openfoodfacts.org/product/0000...</td>\n",
       "      <td>kiliweb</td>\n",
       "      <td>1656948610</td>\n",
       "      <td>2022-07-04T15:30:10Z</td>\n",
       "      <td>1656948613</td>\n",
       "      <td>2022-07-04T15:30:13Z</td>\n",
       "      <td>kiliweb</td>\n",
       "      <td>Andrè</td>\n",
       "      <td>NaN</td>\n",
       "      <td>...</td>\n",
       "      <td>NaN</td>\n",
       "      <td>NaN</td>\n",
       "      <td>NaN</td>\n",
       "      <td>NaN</td>\n",
       "      <td>NaN</td>\n",
       "      <td>NaN</td>\n",
       "      <td>NaN</td>\n",
       "      <td>NaN</td>\n",
       "      <td>NaN</td>\n",
       "      <td>NaN</td>\n",
       "    </tr>\n",
       "    <tr>\n",
       "      <th>2</th>\n",
       "      <td>3429145</td>\n",
       "      <td>http://world-en.openfoodfacts.org/product/0000...</td>\n",
       "      <td>kiliweb</td>\n",
       "      <td>1630483911</td>\n",
       "      <td>2021-09-01T08:11:51Z</td>\n",
       "      <td>1682646029</td>\n",
       "      <td>2023-04-28T01:40:29Z</td>\n",
       "      <td>isabel626</td>\n",
       "      <td>L.casei</td>\n",
       "      <td>NaN</td>\n",
       "      <td>...</td>\n",
       "      <td>NaN</td>\n",
       "      <td>NaN</td>\n",
       "      <td>NaN</td>\n",
       "      <td>NaN</td>\n",
       "      <td>NaN</td>\n",
       "      <td>NaN</td>\n",
       "      <td>NaN</td>\n",
       "      <td>NaN</td>\n",
       "      <td>NaN</td>\n",
       "      <td>NaN</td>\n",
       "    </tr>\n",
       "    <tr>\n",
       "      <th>3</th>\n",
       "      <td>26772226</td>\n",
       "      <td>http://world-en.openfoodfacts.org/product/0000...</td>\n",
       "      <td>kiliweb</td>\n",
       "      <td>1654250311</td>\n",
       "      <td>2022-06-03T09:58:31Z</td>\n",
       "      <td>1654270474</td>\n",
       "      <td>2022-06-03T15:34:34Z</td>\n",
       "      <td>quentinbrd</td>\n",
       "      <td>Skyr</td>\n",
       "      <td>NaN</td>\n",
       "      <td>...</td>\n",
       "      <td>NaN</td>\n",
       "      <td>NaN</td>\n",
       "      <td>NaN</td>\n",
       "      <td>NaN</td>\n",
       "      <td>NaN</td>\n",
       "      <td>NaN</td>\n",
       "      <td>NaN</td>\n",
       "      <td>NaN</td>\n",
       "      <td>NaN</td>\n",
       "      <td>NaN</td>\n",
       "    </tr>\n",
       "    <tr>\n",
       "      <th>4</th>\n",
       "      <td>17</td>\n",
       "      <td>http://world-en.openfoodfacts.org/product/0000...</td>\n",
       "      <td>kiliweb</td>\n",
       "      <td>1529059080</td>\n",
       "      <td>2018-06-15T10:38:00Z</td>\n",
       "      <td>1561463718</td>\n",
       "      <td>2019-06-25T11:55:18Z</td>\n",
       "      <td>kiliweb</td>\n",
       "      <td>Vitória crackers</td>\n",
       "      <td>NaN</td>\n",
       "      <td>...</td>\n",
       "      <td>NaN</td>\n",
       "      <td>NaN</td>\n",
       "      <td>NaN</td>\n",
       "      <td>NaN</td>\n",
       "      <td>NaN</td>\n",
       "      <td>NaN</td>\n",
       "      <td>NaN</td>\n",
       "      <td>NaN</td>\n",
       "      <td>NaN</td>\n",
       "      <td>NaN</td>\n",
       "    </tr>\n",
       "  </tbody>\n",
       "</table>\n",
       "<p>5 rows × 203 columns</p>\n",
       "</div>"
      ],
      "text/plain": [
       "        code                                                url  \\\n",
       "0        225  http://world-en.openfoodfacts.org/product/0000...   \n",
       "1  207025004  http://world-en.openfoodfacts.org/product/0000...   \n",
       "2    3429145  http://world-en.openfoodfacts.org/product/0000...   \n",
       "3   26772226  http://world-en.openfoodfacts.org/product/0000...   \n",
       "4         17  http://world-en.openfoodfacts.org/product/0000...   \n",
       "\n",
       "          creator   created_t      created_datetime  last_modified_t  \\\n",
       "0  nutrinet-sante  1623855208  2021-06-16T14:53:28Z       1692101569   \n",
       "1         kiliweb  1656948610  2022-07-04T15:30:10Z       1656948613   \n",
       "2         kiliweb  1630483911  2021-09-01T08:11:51Z       1682646029   \n",
       "3         kiliweb  1654250311  2022-06-03T09:58:31Z       1654270474   \n",
       "4         kiliweb  1529059080  2018-06-15T10:38:00Z       1561463718   \n",
       "\n",
       "  last_modified_datetime last_modified_by      product_name  \\\n",
       "0   2023-08-15T12:12:49Z             digg    jeunes pousses   \n",
       "1   2022-07-04T15:30:13Z          kiliweb             Andrè   \n",
       "2   2023-04-28T01:40:29Z        isabel626           L.casei   \n",
       "3   2022-06-03T15:34:34Z       quentinbrd              Skyr   \n",
       "4   2019-06-25T11:55:18Z          kiliweb  Vitória crackers   \n",
       "\n",
       "   abbreviated_product_name  ...  nutrition-score-uk_100g glycemic-index_100g  \\\n",
       "0                       NaN  ...                      NaN                 NaN   \n",
       "1                       NaN  ...                      NaN                 NaN   \n",
       "2                       NaN  ...                      NaN                 NaN   \n",
       "3                       NaN  ...                      NaN                 NaN   \n",
       "4                       NaN  ...                      NaN                 NaN   \n",
       "\n",
       "   water-hardness_100g  choline_100g  phylloquinone_100g  beta-glucan_100g  \\\n",
       "0                  NaN           NaN                 NaN               NaN   \n",
       "1                  NaN           NaN                 NaN               NaN   \n",
       "2                  NaN           NaN                 NaN               NaN   \n",
       "3                  NaN           NaN                 NaN               NaN   \n",
       "4                  NaN           NaN                 NaN               NaN   \n",
       "\n",
       "  inositol_100g carnitine_100g sulphate_100g nitrate_100g  \n",
       "0           NaN            NaN           NaN          NaN  \n",
       "1           NaN            NaN           NaN          NaN  \n",
       "2           NaN            NaN           NaN          NaN  \n",
       "3           NaN            NaN           NaN          NaN  \n",
       "4           NaN            NaN           NaN          NaN  \n",
       "\n",
       "[5 rows x 203 columns]"
      ]
     },
     "execution_count": 17,
     "metadata": {},
     "output_type": "execute_result"
    }
   ],
   "source": [
    "OFF_FILEPATH = \"../data/raw/en.openfoodfacts.org.products.csv.gz\"\n",
    "pd.read_csv(OFF_FILEPATH, sep='\\t', nrows=5)"
   ]
  },
  {
   "cell_type": "code",
   "execution_count": 18,
   "id": "e8715210-ebef-4f0d-a384-9479248abb75",
   "metadata": {
    "tags": []
   },
   "outputs": [],
   "source": [
    "cols = {'product_name' : 'string',\n",
    "        'main_category_en' : 'category',\n",
    "        'energy-kcal_100g' : 'float32',\n",
    "        'nutriscore_grade' : 'category',\n",
    "        'nutriscore_score' : 'float32',\n",
    "        'ingredients_text': 'string'}"
   ]
  },
  {
   "cell_type": "code",
   "execution_count": 20,
   "id": "d6a2281a-58ad-4e4d-9d91-978c93e9308a",
   "metadata": {
    "tags": []
   },
   "outputs": [],
   "source": [
    "df = pd.read_csv(OFF_FILEPATH, sep='\\t', nrows=1_000_000, usecols=cols.keys())"
   ]
  },
  {
   "cell_type": "code",
   "execution_count": 21,
   "id": "7c3fbf5f-e9d1-4089-baae-78bc6eff915f",
   "metadata": {
    "tags": []
   },
   "outputs": [
    {
     "data": {
      "text/plain": [
       "product_name         31258\n",
       "ingredients_text    607151\n",
       "nutriscore_score    639910\n",
       "nutriscore_grade    497896\n",
       "main_category_en    541674\n",
       "energy-kcal_100g    181160\n",
       "dtype: int64"
      ]
     },
     "execution_count": 21,
     "metadata": {},
     "output_type": "execute_result"
    }
   ],
   "source": [
    "df.isna().sum()"
   ]
  },
  {
   "cell_type": "code",
   "execution_count": 22,
   "id": "a8f64a64-2cd1-4ecf-9d8d-59e22c32cad3",
   "metadata": {
    "tags": []
   },
   "outputs": [
    {
     "data": {
      "text/plain": [
       "(278221, 6)"
      ]
     },
     "execution_count": 22,
     "metadata": {},
     "output_type": "execute_result"
    }
   ],
   "source": [
    "df.dropna().shape"
   ]
  },
  {
   "cell_type": "code",
   "execution_count": 26,
   "id": "88cf75b1-d822-4cd8-9b45-6320496fc4f5",
   "metadata": {
    "tags": []
   },
   "outputs": [],
   "source": [
    "nrows=1_000_000\n",
    "chunksize = 20_000\n",
    "df = pd.DataFrame()\n",
    "for chunk_df in pd.read_csv(OFF_FILEPATH, sep='\\t', nrows=nrows, usecols=cols.keys(), dtype=cols, chunksize=chunksize, on_bad_lines='skip'):\n",
    "    df = pd.concat([df, chunk_df.dropna()])"
   ]
  },
  {
   "cell_type": "code",
   "execution_count": 27,
   "id": "02631359-b908-41cf-82f2-7ccfbdcca3af",
   "metadata": {
    "tags": []
   },
   "outputs": [
    {
     "data": {
      "text/plain": [
       "(278221, 6)"
      ]
     },
     "execution_count": 27,
     "metadata": {},
     "output_type": "execute_result"
    }
   ],
   "source": [
    "df.shape"
   ]
  },
  {
   "cell_type": "code",
   "execution_count": 28,
   "id": "309cc7d0-4fe4-438c-84dc-9295397cd610",
   "metadata": {
    "tags": []
   },
   "outputs": [
    {
     "data": {
      "text/html": [
       "<div>\n",
       "<style scoped>\n",
       "    .dataframe tbody tr th:only-of-type {\n",
       "        vertical-align: middle;\n",
       "    }\n",
       "\n",
       "    .dataframe tbody tr th {\n",
       "        vertical-align: top;\n",
       "    }\n",
       "\n",
       "    .dataframe thead th {\n",
       "        text-align: right;\n",
       "    }\n",
       "</style>\n",
       "<table border=\"1\" class=\"dataframe\">\n",
       "  <thead>\n",
       "    <tr style=\"text-align: right;\">\n",
       "      <th></th>\n",
       "      <th>product_name</th>\n",
       "      <th>ingredients_text</th>\n",
       "      <th>nutriscore_score</th>\n",
       "      <th>nutriscore_grade</th>\n",
       "      <th>main_category_en</th>\n",
       "      <th>energy-kcal_100g</th>\n",
       "    </tr>\n",
       "  </thead>\n",
       "  <tbody>\n",
       "    <tr>\n",
       "      <th>81</th>\n",
       "      <td>BAguette bressan</td>\n",
       "      <td>Bâguette Bressan Pain baguette 46,2%,' farine ...</td>\n",
       "      <td>-4.0</td>\n",
       "      <td>a</td>\n",
       "      <td>Baguettes</td>\n",
       "      <td>160.0</td>\n",
       "    </tr>\n",
       "    <tr>\n",
       "      <th>199</th>\n",
       "      <td>Pâte a tartiner</td>\n",
       "      <td>50% noisettes locales (82), 29% sucre de canne...</td>\n",
       "      <td>19.0</td>\n",
       "      <td>e</td>\n",
       "      <td>Hazelnut spreads</td>\n",
       "      <td>465.0</td>\n",
       "    </tr>\n",
       "    <tr>\n",
       "      <th>309</th>\n",
       "      <td>Cranberries</td>\n",
       "      <td>Cranberries, sugar, sunflower oil.</td>\n",
       "      <td>8.0</td>\n",
       "      <td>c</td>\n",
       "      <td>Cranberries</td>\n",
       "      <td>300.0</td>\n",
       "    </tr>\n",
       "    <tr>\n",
       "      <th>371</th>\n",
       "      <td>Salade Cesar</td>\n",
       "      <td>INGREDIENTS : LAITUE. VINAIGRETTE (HUILE DE CA...</td>\n",
       "      <td>16.0</td>\n",
       "      <td>d</td>\n",
       "      <td>Leaf vegetables</td>\n",
       "      <td>290.0</td>\n",
       "    </tr>\n",
       "    <tr>\n",
       "      <th>420</th>\n",
       "      <td>Chaussons tressés aux pommes</td>\n",
       "      <td>Pâte (farine, margarines d'huile de palme et d...</td>\n",
       "      <td>9.0</td>\n",
       "      <td>c</td>\n",
       "      <td>Apple turnovers</td>\n",
       "      <td>260.0</td>\n",
       "    </tr>\n",
       "    <tr>\n",
       "      <th>...</th>\n",
       "      <td>...</td>\n",
       "      <td>...</td>\n",
       "      <td>...</td>\n",
       "      <td>...</td>\n",
       "      <td>...</td>\n",
       "      <td>...</td>\n",
       "    </tr>\n",
       "    <tr>\n",
       "      <th>999968</th>\n",
       "      <td>Aceitunas verdes rellenas de pimiento rojo</td>\n",
       "      <td>Aceitunas manzanilla fina verde, agua, sal, pi...</td>\n",
       "      <td>2.0</td>\n",
       "      <td>b</td>\n",
       "      <td>Green olives stuffed of peppers</td>\n",
       "      <td>163.0</td>\n",
       "    </tr>\n",
       "    <tr>\n",
       "      <th>999982</th>\n",
       "      <td>Arándanos rojos</td>\n",
       "      <td>Arándanos, azúcar y aceite de girasol.</td>\n",
       "      <td>9.0</td>\n",
       "      <td>c</td>\n",
       "      <td>Dried cranberries</td>\n",
       "      <td>355.0</td>\n",
       "    </tr>\n",
       "    <tr>\n",
       "      <th>999987</th>\n",
       "      <td>Aceituna gordal deshuesada aliñada</td>\n",
       "      <td>Agua, aceituna gordal, pimiento rojo¹, ajo¹, s...</td>\n",
       "      <td>15.0</td>\n",
       "      <td>d</td>\n",
       "      <td>Marinated olives</td>\n",
       "      <td>190.0</td>\n",
       "    </tr>\n",
       "    <tr>\n",
       "      <th>999990</th>\n",
       "      <td>Aceitunas rellenas de anchoa</td>\n",
       "      <td>Aceitunas verdes manzanilla finas 93%, pasta d...</td>\n",
       "      <td>10.0</td>\n",
       "      <td>c</td>\n",
       "      <td>Stuffed olives</td>\n",
       "      <td>145.0</td>\n",
       "    </tr>\n",
       "    <tr>\n",
       "      <th>999995</th>\n",
       "      <td>Sirope de agave ecológico</td>\n",
       "      <td>Certificados por Fairtrade (Comercio justo) y ...</td>\n",
       "      <td>14.0</td>\n",
       "      <td>d</td>\n",
       "      <td>Agave syrups</td>\n",
       "      <td>336.0</td>\n",
       "    </tr>\n",
       "  </tbody>\n",
       "</table>\n",
       "<p>278221 rows × 6 columns</p>\n",
       "</div>"
      ],
      "text/plain": [
       "                                      product_name  \\\n",
       "81                                BAguette bressan   \n",
       "199                                Pâte a tartiner   \n",
       "309                                    Cranberries   \n",
       "371                                   Salade Cesar   \n",
       "420                   Chaussons tressés aux pommes   \n",
       "...                                            ...   \n",
       "999968  Aceitunas verdes rellenas de pimiento rojo   \n",
       "999982                             Arándanos rojos   \n",
       "999987          Aceituna gordal deshuesada aliñada   \n",
       "999990                Aceitunas rellenas de anchoa   \n",
       "999995                   Sirope de agave ecológico   \n",
       "\n",
       "                                         ingredients_text  nutriscore_score  \\\n",
       "81      Bâguette Bressan Pain baguette 46,2%,' farine ...              -4.0   \n",
       "199     50% noisettes locales (82), 29% sucre de canne...              19.0   \n",
       "309                    Cranberries, sugar, sunflower oil.               8.0   \n",
       "371     INGREDIENTS : LAITUE. VINAIGRETTE (HUILE DE CA...              16.0   \n",
       "420     Pâte (farine, margarines d'huile de palme et d...               9.0   \n",
       "...                                                   ...               ...   \n",
       "999968  Aceitunas manzanilla fina verde, agua, sal, pi...               2.0   \n",
       "999982             Arándanos, azúcar y aceite de girasol.               9.0   \n",
       "999987  Agua, aceituna gordal, pimiento rojo¹, ajo¹, s...              15.0   \n",
       "999990  Aceitunas verdes manzanilla finas 93%, pasta d...              10.0   \n",
       "999995  Certificados por Fairtrade (Comercio justo) y ...              14.0   \n",
       "\n",
       "       nutriscore_grade                 main_category_en  energy-kcal_100g  \n",
       "81                    a                        Baguettes             160.0  \n",
       "199                   e                 Hazelnut spreads             465.0  \n",
       "309                   c                      Cranberries             300.0  \n",
       "371                   d                  Leaf vegetables             290.0  \n",
       "420                   c                  Apple turnovers             260.0  \n",
       "...                 ...                              ...               ...  \n",
       "999968                b  Green olives stuffed of peppers             163.0  \n",
       "999982                c                Dried cranberries             355.0  \n",
       "999987                d                 Marinated olives             190.0  \n",
       "999990                c                   Stuffed olives             145.0  \n",
       "999995                d                     Agave syrups             336.0  \n",
       "\n",
       "[278221 rows x 6 columns]"
      ]
     },
     "execution_count": 28,
     "metadata": {},
     "output_type": "execute_result"
    }
   ],
   "source": [
    "df"
   ]
  },
  {
   "cell_type": "code",
   "execution_count": 33,
   "id": "0d27849f-d658-4356-8e45-639db26817d4",
   "metadata": {
    "tags": []
   },
   "outputs": [
    {
     "data": {
      "text/plain": [
       "nutriscore_grade\n",
       "d                 88618\n",
       "c                 57813\n",
       "e                 51602\n",
       "a                 41606\n",
       "b                 38582\n",
       "not-applicable        0\n",
       "unknown               0\n",
       "Name: count, dtype: int64"
      ]
     },
     "execution_count": 33,
     "metadata": {},
     "output_type": "execute_result"
    }
   ],
   "source": [
    "df['nutriscore_grade'].value_counts()"
   ]
  },
  {
   "cell_type": "code",
   "execution_count": 40,
   "id": "d3ee2a07-bf62-4bea-b008-ba4d5907c759",
   "metadata": {
    "tags": []
   },
   "outputs": [
    {
     "name": "stderr",
     "output_type": "stream",
     "text": [
      "C:\\Users\\user77\\AppData\\Local\\Temp\\ipykernel_5288\\3811146721.py:1: FutureWarning: The default of observed=False is deprecated and will be changed to True in a future version of pandas. Pass observed=False to retain current behavior or observed=True to adopt the future default and silence this warning.\n",
      "  df.groupby('nutriscore_grade')['energy-kcal_100g'].agg('mean')\n"
     ]
    },
    {
     "data": {
      "text/plain": [
       "nutriscore_grade\n",
       "a                 186.036819\n",
       "b                 130.897186\n",
       "c                 233.950516\n",
       "d                 345.052032\n",
       "e                 402.386078\n",
       "not-applicable           NaN\n",
       "unknown                  NaN\n",
       "Name: energy-kcal_100g, dtype: float32"
      ]
     },
     "execution_count": 40,
     "metadata": {},
     "output_type": "execute_result"
    }
   ],
   "source": [
    "df.groupby('nutriscore_grade')['energy-kcal_100g'].agg('mean')"
   ]
  },
  {
   "cell_type": "code",
   "execution_count": null,
   "id": "b0a6ecbd-9f1f-42e4-b206-5eb04c28e30b",
   "metadata": {},
   "outputs": [],
   "source": []
  }
 ],
 "metadata": {
  "kernelspec": {
   "display_name": "Python 3 (ipykernel)",
   "language": "python",
   "name": "python3"
  },
  "language_info": {
   "codemirror_mode": {
    "name": "ipython",
    "version": 3
   },
   "file_extension": ".py",
   "mimetype": "text/x-python",
   "name": "python",
   "nbconvert_exporter": "python",
   "pygments_lexer": "ipython3",
   "version": "3.11.5"
  }
 },
 "nbformat": 4,
 "nbformat_minor": 5
}
